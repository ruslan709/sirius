{
 "cells": [
  {
   "cell_type": "code",
   "execution_count": 3,
   "metadata": {},
   "outputs": [],
   "source": [
    "#%%\n",
    "import pandas as pd\n",
    "import seaborn as sns\n",
    "from sklearn.ensemble import GradientBoostingRegressor\n",
    "from sklearn.metrics.pairwise import cosine_similarity\n",
    "import matplotlib.pyplot as plt\n",
    "%matplotlib inline\n",
    "\n",
    "movies = pd.read_csv('movies.csv')\n",
    "ratings = pd.read_csv('ratings.csv')\n",
    "\n",
    "\n",
    "model = GradientBoostingRegressor()\n",
    "\n",
    "target = ratings['rating']\n",
    "model.fit(ratings, target)\n",
    "\n",
    "def recommend_movies(movie_id, n=10):\n",
    "\n",
    "    similarities = cosine_similarity(movies.loc[movie_id].values.reshape(1, -1), movies.values)\n",
    "    similar_movies_indexes = similarities.argsort()[0][-n-1:-1]\n",
    "    \n",
    "\n",
    "    recommended_movies = movies.iloc[similar_movies_indexes]\n",
    "\n",
    "\n",
    "    relevance_values = similarities[0][similar_movies_indexes]\n",
    "   \n",
    "\n",
    "    plt.bar(recommended_movies['movie_id'], relevance_values, color='skyblue')\n",
    "    plt.xlabel('Фильмы')\n",
    "    plt.ylabel('Значение релевантности')\n",
    "    plt.title('Релевантность рекомендуемых фильмов')\n",
    "    plt.show()\n",
    "\n",
    "\n",
    "    explanations = []\n",
    "    for index, movie in recommended_movies.iterrows():\n",
    "        explanations.append(f\"потому что вы просмотрели и оценили фильм {movie_id} на 5 баллов\")\n",
    "\n",
    "    return recommended_movies, relevance_values, explanations\n",
    "\n",
    "\n",
    "recommended, relevance, explanations = recommend_movies(movie_id=123, n=5)\n",
    "\n",
    "print(\"Рекомендуемые фильмы:\")\n",
    "print(recommended)\n",
    "print(\"Значения релевантности:\")\n",
    "print(relevance)\n",
    "print(\"Объяснения:\")\n",
    "for explanation in explanations:\n",
    "    print(explanation)"
   ]
  }
 ],
 "metadata": {
  "kernelspec": {
   "display_name": "Python 3",
   "language": "python",
   "name": "python3"
  },
  "language_info": {
   "codemirror_mode": {
    "name": "ipython",
    "version": 3
   },
   "file_extension": ".py",
   "mimetype": "text/x-python",
   "name": "python",
   "nbconvert_exporter": "python",
   "pygments_lexer": "ipython3",
   "version": "3.11.6"
  }
 },
 "nbformat": 4,
 "nbformat_minor": 2
}
